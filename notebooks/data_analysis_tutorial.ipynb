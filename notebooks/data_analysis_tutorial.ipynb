{
 "cells": [
  {
   "cell_type": "markdown",
   "metadata": {},
   "source": [
    "# Data Analysis Tutorial with Claude Code\n",
    "\n",
    "This notebook demonstrates comprehensive data analysis techniques using Python and popular data science libraries.\n",
    "\n",
    "## Table of Contents\n",
    "1. Data Loading and Exploration\n",
    "2. Data Cleaning\n",
    "3. Exploratory Data Analysis\n",
    "4. Data Visualization\n",
    "5. Statistical Analysis\n",
    "6. Key Insights and Recommendations"
   ]
  },
  {
   "cell_type": "markdown",
   "metadata": {},
   "source": [
    "## 1. Data Loading and Exploration\n",
    "\n",
    "Let's start by loading the necessary libraries and our datasets."
   ]
  },
  {
   "cell_type": "code",
   "execution_count": null,
   "metadata": {},
   "outputs": [],
   "source": [
    "import pandas as pd\n",
    "import numpy as np\n",
    "import matplotlib.pyplot as plt\n",
    "import seaborn as sns\n",
    "from scipy import stats\n",
    "\n",
    "# Set visualization style\n",
    "sns.set_style(\"whitegrid\")\n",
    "plt.rcParams['figure.figsize'] = (12, 6)\n",
    "\n",
    "print(\"Libraries loaded successfully!\")"
   ]
  },
  {
   "cell_type": "code",
   "execution_count": null,
   "metadata": {},
   "outputs": [],
   "source": [
    "# Load datasets\n",
    "sales_df = pd.read_csv('../data/sales_data.csv')\n",
    "customer_df = pd.read_csv('../data/customer_data.csv')\n",
    "\n",
    "print(f\"Sales data shape: {sales_df.shape}\")\n",
    "print(f\"Customer data shape: {customer_df.shape}\")"
   ]
  },
  {
   "cell_type": "code",
   "execution_count": null,
   "metadata": {},
   "outputs": [],
   "source": [
    "# Display first few rows of sales data\n",
    "print(\"Sales Data Sample:\")\n",
    "sales_df.head()"
   ]
  },
  {
   "cell_type": "code",
   "execution_count": null,
   "metadata": {},
   "outputs": [],
   "source": [
    "# Display first few rows of customer data\n",
    "print(\"Customer Data Sample:\")\n",
    "customer_df.head()"
   ]
  },
  {
   "cell_type": "code",
   "execution_count": null,
   "metadata": {},
   "outputs": [],
   "source": [
    "# Check data types and missing values\n",
    "print(\"Sales Data Info:\")\n",
    "print(sales_df.info())\n",
    "print(\"\\nMissing values:\")\n",
    "print(sales_df.isnull().sum())"
   ]
  },
  {
   "cell_type": "markdown",
   "metadata": {},
   "source": [
    "## 2. Data Cleaning\n",
    "\n",
    "Let's clean and prepare our data for analysis."
   ]
  },
  {
   "cell_type": "code",
   "execution_count": null,
   "metadata": {},
   "outputs": [],
   "source": [
    "# Convert date columns to datetime\n",
    "sales_df['date'] = pd.to_datetime(sales_df['date'])\n",
    "customer_df['member_since'] = pd.to_datetime(customer_df['member_since'])\n",
    "\n",
    "# Create additional date features for sales data\n",
    "sales_df['year'] = sales_df['date'].dt.year\n",
    "sales_df['month'] = sales_df['date'].dt.month\n",
    "sales_df['day_of_week'] = sales_df['date'].dt.day_name()\n",
    "\n",
    "print(\"Date columns processed successfully!\")"
   ]
  },
  {
   "cell_type": "markdown",
   "metadata": {},
   "source": [
    "## 3. Exploratory Data Analysis\n",
    "\n",
    "Let's explore our data through summary statistics and aggregations."
   ]
  },
  {
   "cell_type": "code",
   "execution_count": null,
   "metadata": {},
   "outputs": [],
   "source": [
    "# Sales summary statistics\n",
    "print(\"Sales Data - Descriptive Statistics:\")\n",
    "sales_df[['quantity', 'price', 'revenue']].describe()"
   ]
  },
  {
   "cell_type": "code",
   "execution_count": null,
   "metadata": {},
   "outputs": [],
   "source": [
    "# Revenue by category\n",
    "category_revenue = sales_df.groupby('category').agg({\n",
    "    'revenue': ['sum', 'mean', 'count']\n",
    "}).round(2)\n",
    "\n",
    "category_revenue.columns = ['Total Revenue', 'Avg Revenue', 'Transactions']\n",
    "print(\"Revenue by Category:\")\n",
    "category_revenue.sort_values('Total Revenue', ascending=False)"
   ]
  },
  {
   "cell_type": "code",
   "execution_count": null,
   "metadata": {},
   "outputs": [],
   "source": [
    "# Revenue by region\n",
    "region_revenue = sales_df.groupby('region').agg({\n",
    "    'revenue': 'sum',\n",
    "    'quantity': 'sum'\n",
    "}).round(2)\n",
    "\n",
    "print(\"Revenue by Region:\")\n",
    "region_revenue.sort_values('revenue', ascending=False)"
   ]
  },
  {
   "cell_type": "code",
   "execution_count": null,
   "metadata": {},
   "outputs": [],
   "source": [
    "# Customer analysis\n",
    "print(\"Customer Data - Descriptive Statistics:\")\n",
    "customer_df[['age', 'income', 'purchase_frequency', 'satisfaction_score']].describe()"
   ]
  },
  {
   "cell_type": "markdown",
   "metadata": {},
   "source": [
    "## 4. Data Visualization\n",
    "\n",
    "Let's create visualizations to better understand our data."
   ]
  },
  {
   "cell_type": "code",
   "execution_count": null,
   "metadata": {},
   "outputs": [],
   "source": [
    "# Revenue by category - Bar plot\n",
    "plt.figure(figsize=(10, 6))\n",
    "category_total = sales_df.groupby('category')['revenue'].sum().sort_values(ascending=False)\n",
    "category_total.plot(kind='bar', color='steelblue')\n",
    "plt.title('Total Revenue by Category', fontsize=16, fontweight='bold')\n",
    "plt.xlabel('Category', fontsize=12)\n",
    "plt.ylabel('Revenue ($)', fontsize=12)\n",
    "plt.xticks(rotation=45)\n",
    "plt.tight_layout()\n",
    "plt.show()"
   ]
  },
  {
   "cell_type": "code",
   "execution_count": null,
   "metadata": {},
   "outputs": [],
   "source": [
    "# Sales trend over time\n",
    "plt.figure(figsize=(12, 6))\n",
    "daily_revenue = sales_df.groupby('date')['revenue'].sum()\n",
    "plt.plot(daily_revenue.index, daily_revenue.values, marker='o', linewidth=2, color='darkgreen')\n",
    "plt.title('Daily Revenue Trend', fontsize=16, fontweight='bold')\n",
    "plt.xlabel('Date', fontsize=12)\n",
    "plt.ylabel('Revenue ($)', fontsize=12)\n",
    "plt.xticks(rotation=45)\n",
    "plt.grid(True, alpha=0.3)\n",
    "plt.tight_layout()\n",
    "plt.show()"
   ]
  },
  {
   "cell_type": "code",
   "execution_count": null,
   "metadata": {},
   "outputs": [],
   "source": [
    "# Regional distribution - Pie chart\n",
    "plt.figure(figsize=(10, 8))\n",
    "region_revenue_sum = sales_df.groupby('region')['revenue'].sum()\n",
    "colors = ['#ff9999', '#66b3ff', '#99ff99', '#ffcc99']\n",
    "plt.pie(region_revenue_sum.values, labels=region_revenue_sum.index, autopct='%1.1f%%',\n",
    "        colors=colors, startangle=90)\n",
    "plt.title('Revenue Distribution by Region', fontsize=16, fontweight='bold')\n",
    "plt.tight_layout()\n",
    "plt.show()"
   ]
  },
  {
   "cell_type": "code",
   "execution_count": null,
   "metadata": {},
   "outputs": [],
   "source": [
    "# Customer age distribution\n",
    "plt.figure(figsize=(10, 6))\n",
    "plt.hist(customer_df['age'], bins=15, color='coral', edgecolor='black', alpha=0.7)\n",
    "plt.title('Customer Age Distribution', fontsize=16, fontweight='bold')\n",
    "plt.xlabel('Age', fontsize=12)\n",
    "plt.ylabel('Frequency', fontsize=12)\n",
    "plt.grid(True, alpha=0.3)\n",
    "plt.tight_layout()\n",
    "plt.show()"
   ]
  },
  {
   "cell_type": "code",
   "execution_count": null,
   "metadata": {},
   "outputs": [],
   "source": [
    "# Income vs Satisfaction scatter plot\n",
    "plt.figure(figsize=(10, 6))\n",
    "plt.scatter(customer_df['income'], customer_df['satisfaction_score'], alpha=0.6, s=100, color='purple')\n",
    "plt.title('Income vs Customer Satisfaction', fontsize=16, fontweight='bold')\n",
    "plt.xlabel('Income ($)', fontsize=12)\n",
    "plt.ylabel('Satisfaction Score', fontsize=12)\n",
    "plt.grid(True, alpha=0.3)\n",
    "plt.tight_layout()\n",
    "plt.show()"
   ]
  },
  {
   "cell_type": "code",
   "execution_count": null,
   "metadata": {},
   "outputs": [],
   "source": [
    "# Correlation heatmap\n",
    "plt.figure(figsize=(10, 8))\n",
    "numeric_cols = ['age', 'income', 'purchase_frequency', 'satisfaction_score']\n",
    "correlation_matrix = customer_df[numeric_cols].corr()\n",
    "sns.heatmap(correlation_matrix, annot=True, cmap='coolwarm', center=0,\n",
    "            square=True, linewidths=1, cbar_kws={\"shrink\": 0.8})\n",
    "plt.title('Correlation Heatmap - Customer Metrics', fontsize=16, fontweight='bold')\n",
    "plt.tight_layout()\n",
    "plt.show()"
   ]
  },
  {
   "cell_type": "markdown",
   "metadata": {},
   "source": [
    "## 5. Statistical Analysis\n",
    "\n",
    "Let's perform statistical tests to validate our findings."
   ]
  },
  {
   "cell_type": "code",
   "execution_count": null,
   "metadata": {},
   "outputs": [],
   "source": [
    "# Hypothesis test: Is there a significant difference in revenue between categories?\n",
    "electronics = sales_df[sales_df['category'] == 'Electronics']['revenue']\n",
    "furniture = sales_df[sales_df['category'] == 'Furniture']['revenue']\n",
    "supplies = sales_df[sales_df['category'] == 'Supplies']['revenue']\n",
    "\n",
    "f_stat, p_value = stats.f_oneway(electronics, furniture, supplies)\n",
    "\n",
    "print(\"ANOVA Test: Revenue Difference Between Categories\")\n",
    "print(f\"F-statistic: {f_stat:.4f}\")\n",
    "print(f\"P-value: {p_value:.4f}\")\n",
    "\n",
    "if p_value < 0.05:\n",
    "    print(\"Result: Significant difference exists (p < 0.05)\")\n",
    "else:\n",
    "    print(\"Result: No significant difference (p >= 0.05)\")"
   ]
  },
  {
   "cell_type": "code",
   "execution_count": null,
   "metadata": {},
   "outputs": [],
   "source": [
    "# Correlation test: Income vs Purchase Frequency\n",
    "corr_coef, p_value = stats.pearsonr(customer_df['income'], customer_df['purchase_frequency'])\n",
    "\n",
    "print(\"Correlation Test: Income vs Purchase Frequency\")\n",
    "print(f\"Correlation coefficient: {corr_coef:.4f}\")\n",
    "print(f\"P-value: {p_value:.4f}\")\n",
    "\n",
    "if p_value < 0.05:\n",
    "    print(\"Result: Statistically significant correlation (p < 0.05)\")\n",
    "else:\n",
    "    print(\"Result: No significant correlation (p >= 0.05)\")"
   ]
  },
  {
   "cell_type": "markdown",
   "metadata": {},
   "source": [
    "## 6. Key Insights and Recommendations\n",
    "\n",
    "Based on our analysis, here are the key insights:"
   ]
  },
  {
   "cell_type": "code",
   "execution_count": null,
   "metadata": {},
   "outputs": [],
   "source": [
    "# Summary statistics\n",
    "print(\"=\"*60)\n",
    "print(\"KEY PERFORMANCE INDICATORS\")\n",
    "print(\"=\"*60)\n",
    "print(f\"Total Revenue: ${sales_df['revenue'].sum():,.2f}\")\n",
    "print(f\"Total Transactions: {len(sales_df)}\")\n",
    "print(f\"Average Transaction Value: ${sales_df['revenue'].mean():,.2f}\")\n",
    "print(f\"Top Category: {sales_df.groupby('category')['revenue'].sum().idxmax()}\")\n",
    "print(f\"Top Region: {sales_df.groupby('region')['revenue'].sum().idxmax()}\")\n",
    "print(f\"\\nTotal Customers: {len(customer_df)}\")\n",
    "print(f\"Average Customer Satisfaction: {customer_df['satisfaction_score'].mean():.2f}/5.0\")\n",
    "print(f\"Average Purchase Frequency: {customer_df['purchase_frequency'].mean():.1f} purchases/year\")"
   ]
  },
  {
   "cell_type": "markdown",
   "metadata": {},
   "source": [
    "### Recommendations:\n",
    "\n",
    "1. **Product Strategy**: Focus on Electronics as it generates the highest revenue\n",
    "2. **Regional Focus**: Invest more in top-performing regions\n",
    "3. **Customer Engagement**: High-income customers tend to purchase more frequently\n",
    "4. **Customer Satisfaction**: Maintain high satisfaction scores through quality service\n",
    "5. **Inventory Management**: Stock popular items based on sales trends"
   ]
  }
 ],
 "metadata": {
  "kernelspec": {
   "display_name": "Python 3",
   "language": "python",
   "name": "python3"
  },
  "language_info": {
   "codemirror_mode": {
    "name": "ipython",
    "version": 3
   },
   "file_extension": ".py",
   "mimetype": "text/x-python",
   "name": "python",
   "nbconvert_exporter": "python",
   "pygments_lexer": "ipython3",
   "version": "3.8.0"
  }
 },
 "nbformat": 4,
 "nbformat_minor": 4
}
