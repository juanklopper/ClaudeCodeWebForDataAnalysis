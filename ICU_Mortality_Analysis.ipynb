{
 "cells": [
  {
   "cell_type": "markdown",
   "source": "# ICU Mortality Data Analysis",
   "metadata": {}
  },
  {
   "cell_type": "markdown",
   "source": "## Import packages",
   "metadata": {}
  },
  {
   "cell_type": "code",
   "source": "# Import required packages\nimport pandas as pd\nimport numpy as np\nimport matplotlib.pyplot as plt\nimport seaborn as sns",
   "metadata": {},
   "execution_count": null,
   "outputs": []
  },
  {
   "cell_type": "code",
   "source": "# Enable high DPI plotting\n%config InlineBackend.figure_format = 'retina'",
   "metadata": {},
   "execution_count": null,
   "outputs": []
  },
  {
   "cell_type": "markdown",
   "source": "## Data import and cleaning",
   "metadata": {}
  },
  {
   "cell_type": "code",
   "source": "# Import the ICU mortality data\ndf = pd.read_csv('ICU_Mortality.csv')",
   "metadata": {},
   "execution_count": null,
   "outputs": []
  },
  {
   "cell_type": "code",
   "source": "# Display the first few rows\ndf.head()",
   "metadata": {},
   "execution_count": null,
   "outputs": []
  },
  {
   "cell_type": "code",
   "source": "# Check the shape and data types\nprint(f\"Dataset shape: {df.shape}\")\nprint(\"\\nData types:\")\ndf.info()",
   "metadata": {},
   "execution_count": null,
   "outputs": []
  },
  {
   "cell_type": "code",
   "source": "# Check for missing values\ndf.isnull().sum()",
   "metadata": {},
   "execution_count": null,
   "outputs": []
  },
  {
   "cell_type": "code",
   "source": "# Remove rows with missing values\ndf_clean = df.dropna()\nprint(f\"Original dataset shape: {df.shape}\")\nprint(f\"Cleaned dataset shape: {df_clean.shape}\")\nprint(f\"Rows removed: {df.shape[0] - df_clean.shape[0]}\")",
   "metadata": {},
   "execution_count": null,
   "outputs": []
  },
  {
   "cell_type": "markdown",
   "source": "## Data analysis and visualization",
   "metadata": {}
  },
  {
   "cell_type": "markdown",
   "source": "### Age (Numerical Variable)",
   "metadata": {}
  },
  {
   "cell_type": "code",
   "source": "# Calculate summary statistics for Age\nage_mean = df_clean['Age'].mean()\nage_std = df_clean['Age'].std()\nage_var = df_clean['Age'].var()\nage_median = df_clean['Age'].median()\nage_q1 = df_clean['Age'].quantile(0.25)\nage_q3 = df_clean['Age'].quantile(0.75)\nage_iqr = age_q3 - age_q1\n\nprint(f\"Mean: {age_mean:.2f}\")\nprint(f\"Standard Deviation: {age_std:.2f}\")\nprint(f\"Variance: {age_var:.2f}\")\nprint(f\"Median: {age_median:.2f}\")\nprint(f\"Q1 (25th percentile): {age_q1:.2f}\")\nprint(f\"Q3 (75th percentile): {age_q3:.2f}\")\nprint(f\"Interquartile Range (IQR): {age_iqr:.2f}\")",
   "metadata": {},
   "execution_count": null,
   "outputs": []
  },
  {
   "cell_type": "markdown",
   "source": "The Age variable has a sample mean of $\\bar{X}$ and standard deviation of $s$. The median age is shown above, with an interquartile range (IQR) indicating the spread of the middle 50% of the data.",
   "metadata": {}
  },
  {
   "cell_type": "code",
   "source": "# Create box-and-whisker plot for Age\nplt.figure(figsize=(8, 6))\nplt.boxplot(df_clean['Age'], vert=True)\nplt.ylabel('Age (years)')\nplt.title('Box-and-Whisker Plot of Patient Age')\nplt.grid(True, alpha=0.3)\nplt.show()",
   "metadata": {},
   "execution_count": null,
   "outputs": []
  },
  {
   "cell_type": "markdown",
   "source": "The box-and-whisker plot shows the distribution of patient ages, with the box representing the interquartile range and the whiskers extending to the minimum and maximum values (excluding outliers).",
   "metadata": {}
  },
  {
   "cell_type": "markdown",
   "source": "### WCC (Numerical Variable)",
   "metadata": {}
  },
  {
   "cell_type": "code",
   "source": "# Calculate summary statistics for WCC\nwcc_mean = df_clean['WCC'].mean()\nwcc_std = df_clean['WCC'].std()\nwcc_var = df_clean['WCC'].var()\nwcc_median = df_clean['WCC'].median()\nwcc_q1 = df_clean['WCC'].quantile(0.25)\nwcc_q3 = df_clean['WCC'].quantile(0.75)\nwcc_iqr = wcc_q3 - wcc_q1\n\nprint(f\"Mean: {wcc_mean:.2f}\")\nprint(f\"Standard Deviation: {wcc_std:.2f}\")\nprint(f\"Variance: {wcc_var:.2f}\")\nprint(f\"Median: {wcc_median:.2f}\")\nprint(f\"Q1 (25th percentile): {wcc_q1:.2f}\")\nprint(f\"Q3 (75th percentile): {wcc_q3:.2f}\")\nprint(f\"Interquartile Range (IQR): {wcc_iqr:.2f}\")",
   "metadata": {},
   "execution_count": null,
   "outputs": []
  },
  {
   "cell_type": "markdown",
   "source": "The white cell count (WCC) is measured in $10^9$ cells per liter. The summary statistics above show the central tendency and variability of WCC values in the patient sample.",
   "metadata": {}
  },
  {
   "cell_type": "code",
   "source": "# Create box-and-whisker plot for WCC\nplt.figure(figsize=(8, 6))\nplt.boxplot(df_clean['WCC'], vert=True)\nplt.ylabel('WCC ($10^9$ cells/L)')\nplt.title('Box-and-Whisker Plot of White Cell Count')\nplt.grid(True, alpha=0.3)\nplt.show()",
   "metadata": {},
   "execution_count": null,
   "outputs": []
  },
  {
   "cell_type": "markdown",
   "source": "The box-and-whisker plot visualizes the distribution of white cell counts across the patient population, showing the median, quartiles, and potential outliers.",
   "metadata": {}
  },
  {
   "cell_type": "markdown",
   "source": "### HB (Numerical Variable)",
   "metadata": {}
  },
  {
   "cell_type": "code",
   "source": "# Calculate summary statistics for HB\nhb_mean = df_clean['HB'].mean()\nhb_std = df_clean['HB'].std()\nhb_var = df_clean['HB'].var()\nhb_median = df_clean['HB'].median()\nhb_q1 = df_clean['HB'].quantile(0.25)\nhb_q3 = df_clean['HB'].quantile(0.75)\nhb_iqr = hb_q3 - hb_q1\n\nprint(f\"Mean: {hb_mean:.2f}\")\nprint(f\"Standard Deviation: {hb_std:.2f}\")\nprint(f\"Variance: {hb_var:.2f}\")\nprint(f\"Median: {hb_median:.2f}\")\nprint(f\"Q1 (25th percentile): {hb_q1:.2f}\")\nprint(f\"Q3 (75th percentile): {hb_q3:.2f}\")\nprint(f\"Interquartile Range (IQR): {hb_iqr:.2f}\")",
   "metadata": {},
   "execution_count": null,
   "outputs": []
  },
  {
   "cell_type": "markdown",
   "source": "The hemoglobin (HB) level is measured in gram percentage (g%). The descriptive statistics provide insights into the distribution of hemoglobin levels among ICU patients.",
   "metadata": {}
  },
  {
   "cell_type": "code",
   "source": "# Create box-and-whisker plot for HB\nplt.figure(figsize=(8, 6))\nplt.boxplot(df_clean['HB'], vert=True)\nplt.ylabel('HB (g%)')\nplt.title('Box-and-Whisker Plot of Hemoglobin')\nplt.grid(True, alpha=0.3)\nplt.show()",
   "metadata": {},
   "execution_count": null,
   "outputs": []
  },
  {
   "cell_type": "markdown",
   "source": "The box-and-whisker plot displays the hemoglobin distribution, highlighting the central tendency and variability in the patient cohort.",
   "metadata": {}
  },
  {
   "cell_type": "markdown",
   "source": "### Mortality (Categorical Variable)",
   "metadata": {}
  },
  {
   "cell_type": "code",
   "source": "# Calculate frequency and relative frequency for Mortality\nmortality_freq = df_clean['Mortality'].value_counts()\nmortality_rel_freq = df_clean['Mortality'].value_counts(normalize=True)\n\nprint(\"Frequency:\")\nprint(mortality_freq)\nprint(\"\\nRelative Frequency:\")\nprint(mortality_rel_freq)",
   "metadata": {},
   "execution_count": null,
   "outputs": []
  },
  {
   "cell_type": "markdown",
   "source": "The Mortality variable shows the distribution of patient outcomes in the ICU. The frequency table shows the count of patients who died versus survived, while the relative frequency expresses these as proportions of the total sample.",
   "metadata": {}
  },
  {
   "cell_type": "code",
   "source": "# Create bar plot for Mortality\nplt.figure(figsize=(8, 6))\nmortality_freq.plot(kind='bar', color=['#E74C3C', '#27AE60'])\nplt.xlabel('Mortality Status')\nplt.ylabel('Frequency')\nplt.title('Bar Plot of Mortality Status')\nplt.xticks(rotation=0)\nplt.grid(True, alpha=0.3, axis='y')\nplt.tight_layout()\nplt.show()",
   "metadata": {},
   "execution_count": null,
   "outputs": []
  },
  {
   "cell_type": "markdown",
   "source": "The bar plot provides a visual comparison of mortality outcomes, clearly showing the number of patients who survived (green) versus those who died (red) in the ICU.",
   "metadata": {}
  },
  {
   "cell_type": "markdown",
   "source": "### Diabetes (Categorical Variable)",
   "metadata": {}
  },
  {
   "cell_type": "code",
   "source": "# Calculate frequency and relative frequency for Diabetes\ndiabetes_freq = df_clean['Diabetes'].value_counts()\ndiabetes_rel_freq = df_clean['Diabetes'].value_counts(normalize=True)\n\nprint(\"Frequency:\")\nprint(diabetes_freq)\nprint(\"\\nRelative Frequency:\")\nprint(diabetes_rel_freq)",
   "metadata": {},
   "execution_count": null,
   "outputs": []
  },
  {
   "cell_type": "markdown",
   "source": "The Diabetes variable categorizes patients into three groups: those without diabetes (No), those with Type I diabetes (insulin-dependent), and those with Type II diabetes (non-insulin-dependent). The frequencies show the distribution across these categories.",
   "metadata": {}
  },
  {
   "cell_type": "code",
   "source": "# Create bar plot for Diabetes\nplt.figure(figsize=(8, 6))\ndiabetes_freq.plot(kind='bar', color=['#3498DB', '#E67E22', '#9B59B6'])\nplt.xlabel('Diabetes Status')\nplt.ylabel('Frequency')\nplt.title('Bar Plot of Diabetes Status')\nplt.xticks(rotation=0)\nplt.grid(True, alpha=0.3, axis='y')\nplt.tight_layout()\nplt.show()",
   "metadata": {},
   "execution_count": null,
   "outputs": []
  },
  {
   "cell_type": "markdown",
   "source": "The bar plot illustrates the distribution of diabetes status among ICU patients, with different colors representing each diabetes category.",
   "metadata": {}
  },
  {
   "cell_type": "markdown",
   "source": "### Class (Categorical Variable)",
   "metadata": {}
  },
  {
   "cell_type": "code",
   "source": "# Calculate frequency and relative frequency for Class\nclass_freq = df_clean['Class'].value_counts()\nclass_rel_freq = df_clean['Class'].value_counts(normalize=True)\n\nprint(\"Frequency:\")\nprint(class_freq)\nprint(\"\\nRelative Frequency:\")\nprint(class_rel_freq)",
   "metadata": {},
   "execution_count": null,
   "outputs": []
  },
  {
   "cell_type": "markdown",
   "source": "The Class variable categorizes patients by the type of disease for which they were admitted to the ICU: infectious or non-infectious diseases.",
   "metadata": {}
  },
  {
   "cell_type": "code",
   "source": "# Create bar plot for Class\nplt.figure(figsize=(8, 6))\nclass_freq.plot(kind='bar', color=['#1ABC9C', '#F39C12'])\nplt.xlabel('Disease Class')\nplt.ylabel('Frequency')\nplt.title('Bar Plot of Disease Class')\nplt.xticks(rotation=0)\nplt.grid(True, alpha=0.3, axis='y')\nplt.tight_layout()\nplt.show()",
   "metadata": {},
   "execution_count": null,
   "outputs": []
  },
  {
   "cell_type": "markdown",
   "source": "The bar plot shows the distribution of disease classes among ICU admissions, comparing infectious versus non-infectious disease presentations.",
   "metadata": {}
  },
  {
   "cell_type": "markdown",
   "source": "## Conclusions",
   "metadata": {}
  },
  {
   "cell_type": "markdown",
   "source": "This comprehensive analysis of ICU mortality data has provided valuable insights into the characteristics of patients admitted to the Intensive Care Unit. The following key findings emerge from the analysis:\n\n**Numerical Variables:**\n- Age, white cell count (WCC), and hemoglobin (HB) levels were analyzed using descriptive statistics including measures of central tendency (mean, median) and variability (standard deviation, variance, IQR).\n- Box-and-whisker plots revealed the distributions of these continuous variables, highlighting the spread and potential outliers in the patient population.\n\n**Categorical Variables:**\n- Mortality outcomes, diabetes status, and disease classification (infectious vs. non-infectious) were examined through frequency and relative frequency analyses.\n- Bar plots provided clear visual representations of the distribution across categorical groups.\n\n**Data Quality:**\n- The dataset required minimal cleaning, with only a small number of rows containing missing values that were removed from the analysis.\n- The cleaned dataset provided a robust foundation for statistical analysis and visualization.\n\nThese descriptive statistics and visualizations form the foundation for understanding the ICU patient population and could inform future predictive modeling efforts to identify risk factors associated with mortality in critically ill patients.",
   "metadata": {}
  }
 ],
 "metadata": {
  "kernelspec": {
   "display_name": "Python 3",
   "language": "python",
   "name": "python3"
  },
  "language_info": {
   "name": "python",
   "version": "3.8.0"
  }
 },
 "nbformat": 4,
 "nbformat_minor": 4
}